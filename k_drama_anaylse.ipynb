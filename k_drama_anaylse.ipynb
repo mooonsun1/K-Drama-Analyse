{
 "cells": [
  {
   "cell_type": "markdown",
   "id": "f3318cc8-bd46-418b-8be5-62eb5db9fb54",
   "metadata": {},
   "source": [
    "## Install List\n",
    "- pandas\n",
    "- matplotlib\n",
    "- jupyter lab\n"
   ]
  },
  {
   "cell_type": "code",
   "execution_count": 1,
   "id": "c6818a02-e18f-4613-a0eb-45ea7c2f5346",
   "metadata": {},
   "outputs": [],
   "source": [
    "import pandas as pd\n",
    "import numpy as np\n",
    "import matplotlib.pyplot as plt"
   ]
  },
  {
   "cell_type": "code",
   "execution_count": 5,
   "id": "e656b12d-4826-405e-9329-6c1c62704527",
   "metadata": {},
   "outputs": [],
   "source": [
    "kddb = pd.read_csv('csv/TN_K_DRAMA_CST_AUDERT_INFO_202003.csv', index_col = 'progrm_nm' ,usecols = ['progrm_nm','male_n10s_wtchng_rt','male_n20s_wtchng_rt','male_n30s_wtchng_rt','male_n40s_wtchng_rt','male_n50s_wtchng_rt','male_n60s_above_wtchng_rt','female_n10s_wtchng_rt','female_n20s_wtchng_rt','female_n30s_wtchng_rt','female_n40s_wtchng_rt','female_n50s_wtchng_rt','female_n60s_above_wtchng_rt','cst_cn'])"
   ]
  },
  {
   "cell_type": "code",
   "execution_count": 6,
   "id": "34204d04-e7ba-4c9b-9025-08ded8fd0162",
   "metadata": {},
   "outputs": [
    {
     "data": {
      "text/html": [
       "<div>\n",
       "<style scoped>\n",
       "    .dataframe tbody tr th:only-of-type {\n",
       "        vertical-align: middle;\n",
       "    }\n",
       "\n",
       "    .dataframe tbody tr th {\n",
       "        vertical-align: top;\n",
       "    }\n",
       "\n",
       "    .dataframe thead th {\n",
       "        text-align: right;\n",
       "    }\n",
       "</style>\n",
       "<table border=\"1\" class=\"dataframe\">\n",
       "  <thead>\n",
       "    <tr style=\"text-align: right;\">\n",
       "      <th></th>\n",
       "      <th>male_n10s_wtchng_rt</th>\n",
       "      <th>male_n20s_wtchng_rt</th>\n",
       "      <th>male_n30s_wtchng_rt</th>\n",
       "      <th>male_n40s_wtchng_rt</th>\n",
       "      <th>male_n50s_wtchng_rt</th>\n",
       "      <th>male_n60s_above_wtchng_rt</th>\n",
       "      <th>female_n10s_wtchng_rt</th>\n",
       "      <th>female_n20s_wtchng_rt</th>\n",
       "      <th>female_n30s_wtchng_rt</th>\n",
       "      <th>female_n40s_wtchng_rt</th>\n",
       "      <th>female_n50s_wtchng_rt</th>\n",
       "      <th>female_n60s_above_wtchng_rt</th>\n",
       "      <th>cst_cn</th>\n",
       "    </tr>\n",
       "    <tr>\n",
       "      <th>progrm_nm</th>\n",
       "      <th></th>\n",
       "      <th></th>\n",
       "      <th></th>\n",
       "      <th></th>\n",
       "      <th></th>\n",
       "      <th></th>\n",
       "      <th></th>\n",
       "      <th></th>\n",
       "      <th></th>\n",
       "      <th></th>\n",
       "      <th></th>\n",
       "      <th></th>\n",
       "      <th></th>\n",
       "    </tr>\n",
       "  </thead>\n",
       "  <tbody>\n",
       "    <tr>\n",
       "      <th>사랑은뷰티풀인생은원더풀</th>\n",
       "      <td>1.16594</td>\n",
       "      <td>0.49311</td>\n",
       "      <td>0.73419</td>\n",
       "      <td>1.00271</td>\n",
       "      <td>1.9825</td>\n",
       "      <td>2.99838</td>\n",
       "      <td>0.14902</td>\n",
       "      <td>0.48982</td>\n",
       "      <td>2.34841</td>\n",
       "      <td>0.90341</td>\n",
       "      <td>3.51502</td>\n",
       "      <td>4.20171</td>\n",
       "      <td>김청아역:설인아,구준휘역:김재영,김설아역:조윤희,문태랑역:윤박,도진우역:오민석,선우...</td>\n",
       "    </tr>\n",
       "  </tbody>\n",
       "</table>\n",
       "</div>"
      ],
      "text/plain": [
       "              male_n10s_wtchng_rt  male_n20s_wtchng_rt  male_n30s_wtchng_rt  \\\n",
       "progrm_nm                                                                     \n",
       "사랑은뷰티풀인생은원더풀              1.16594              0.49311              0.73419   \n",
       "\n",
       "              male_n40s_wtchng_rt  male_n50s_wtchng_rt  \\\n",
       "progrm_nm                                                \n",
       "사랑은뷰티풀인생은원더풀              1.00271               1.9825   \n",
       "\n",
       "              male_n60s_above_wtchng_rt  female_n10s_wtchng_rt  \\\n",
       "progrm_nm                                                        \n",
       "사랑은뷰티풀인생은원더풀                    2.99838                0.14902   \n",
       "\n",
       "              female_n20s_wtchng_rt  female_n30s_wtchng_rt  \\\n",
       "progrm_nm                                                    \n",
       "사랑은뷰티풀인생은원더풀                0.48982                2.34841   \n",
       "\n",
       "              female_n40s_wtchng_rt  female_n50s_wtchng_rt  \\\n",
       "progrm_nm                                                    \n",
       "사랑은뷰티풀인생은원더풀                0.90341                3.51502   \n",
       "\n",
       "              female_n60s_above_wtchng_rt  \\\n",
       "progrm_nm                                   \n",
       "사랑은뷰티풀인생은원더풀                      4.20171   \n",
       "\n",
       "                                                         cst_cn  \n",
       "progrm_nm                                                        \n",
       "사랑은뷰티풀인생은원더풀  김청아역:설인아,구준휘역:김재영,김설아역:조윤희,문태랑역:윤박,도진우역:오민석,선우...  "
      ]
     },
     "execution_count": 6,
     "metadata": {},
     "output_type": "execute_result"
    }
   ],
   "source": [
    "kddb.head(1)"
   ]
  },
  {
   "cell_type": "code",
   "execution_count": null,
   "id": "7089805c-82f7-48a1-9359-41445b2f2b00",
   "metadata": {},
   "outputs": [],
   "source": []
  }
 ],
 "metadata": {
  "kernelspec": {
   "display_name": "Python 3 (ipykernel)",
   "language": "python",
   "name": "python3"
  },
  "language_info": {
   "codemirror_mode": {
    "name": "ipython",
    "version": 3
   },
   "file_extension": ".py",
   "mimetype": "text/x-python",
   "name": "python",
   "nbconvert_exporter": "python",
   "pygments_lexer": "ipython3",
   "version": "3.11.7"
  }
 },
 "nbformat": 4,
 "nbformat_minor": 5
}
