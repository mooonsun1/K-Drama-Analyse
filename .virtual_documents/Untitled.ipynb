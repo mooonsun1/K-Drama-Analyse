


import pandas as pd
import numpy as np
import matplotlib.pyplot as plt


kddb = pd.read_csv('csv/TN_K_DRAMA_CST_AUDERT_INFO_202003.csv', index_col = "progrm_nm" ,usecols = ['male_n10s_wtchng_rt','male_n20s_wtchng_rt','male_n30s_wtchng_rt','male_n40s_wtchng_rt','male_n50s_wtchng_rt','male_n60s_above_wtchng_rt','female_n10s_wtchng_rt','female_n20s_wtchng_rt','female_n30s_wtchng_rt','female_n40s_wtchng_rt','female_n50s_wtchng_rt','female_n60s_above_wtchng_rt','cst_cn'])


kddb.head(1)



